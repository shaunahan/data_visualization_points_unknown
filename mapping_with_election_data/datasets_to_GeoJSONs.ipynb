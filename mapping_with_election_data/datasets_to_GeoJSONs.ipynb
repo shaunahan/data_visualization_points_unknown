{
 "cells": [
  {
   "cell_type": "code",
   "execution_count": 8,
   "id": "57ed23e4",
   "metadata": {},
   "outputs": [],
   "source": [
    "# Importing libraries\n",
    "import numpy as np\n",
    "import pandas as pd\n",
    "\n",
    "# Loading base dataset\n",
    "electionData = pd.read_csv('https://raw.githubusercontent.com/browninstitute/pointsunknowndata/main/presidentialElectionData/countypres_2000-2020.csv')\n",
    "electionData2020 = electionData[electionData['year'] == 2020].copy(deep=True)\n",
    "\n",
    "# Creating the states dataset\n",
    "statesData = pd.pivot_table(electionData2020, index='state', values='candidatevotes', columns='candidate', aggfunc=np.sum).reset_index()\n",
    "statesData = statesData.rename_axis(None, axis=1)\n",
    "statesData.fillna(0, inplace=True)\n",
    "statesData['Total'] = statesData['DONALD J TRUMP'] + statesData['JOSEPH R BIDEN JR'] + statesData['JO JORGENSEN'] + statesData['OTHER']\n",
    "statesData['Winner'] = statesData[['DONALD J TRUMP','JOSEPH R BIDEN JR','JO JORGENSEN','OTHER']].idxmax(axis=1)\n",
    "statesData['Winner'] = statesData['Winner'].str.title()\n",
    "statesData['WnrPerc'] = np.where(statesData['Winner']=='Donald J Trump', statesData['DONALD J TRUMP']/statesData['Total'], statesData['JOSEPH R BIDEN JR']/statesData['Total'])\n",
    "\n",
    "# Creating the counties dataset\n",
    "electionData2020.dropna(subset=['county_fips'], inplace=True)\n",
    "electionData2020['county_fips'] = electionData2020['county_fips'].astype('int').astype('str').str.zfill(5)\n",
    "electionData2020.rename(columns={'county_fips':'GEOID'}, inplace=True)\n",
    "countiesData = pd.pivot_table(electionData2020, index='GEOID', values='candidatevotes', columns='candidate', aggfunc=np.sum).reset_index()\n",
    "countiesData = countiesData.rename_axis(None, axis=1)\n",
    "countiesData.fillna(0, inplace=True)\n",
    "countiesData['Total'] = countiesData['DONALD J TRUMP'] + countiesData['JOSEPH R BIDEN JR'] + countiesData['JO JORGENSEN'] + countiesData['OTHER']\n",
    "countiesData['Winner'] = countiesData[['DONALD J TRUMP','JOSEPH R BIDEN JR','JO JORGENSEN','OTHER']].idxmax(axis=1)\n",
    "countiesData['Winner'] = countiesData['Winner'].str.title()\n",
    "countiesData['WnrPerc'] = np.where(countiesData['Winner']=='Donald J Trump', countiesData['DONALD J TRUMP']/countiesData['Total'], countiesData['JOSEPH R BIDEN JR']/countiesData['Total'])\n",
    "\n",
    "# Loading the state and county shapefiles\n",
    "# !pip install geopandas \n",
    "import geopandas as gpd\n",
    "\n",
    "counties = gpd.read_file('https://www2.census.gov/geo/tiger/GENZ2020/shp/cb_2020_us_county_5m.zip')\n",
    "states = gpd.read_file('https://www2.census.gov/geo/tiger/GENZ2020/shp/cb_2020_us_state_5m.zip')\n",
    "\n",
    "# Merging the states datasets\n",
    "statesData['state'] = statesData['state'].str.title()\n",
    "states['NAME'] = states['NAME'].str.title()\n",
    "statesData.rename(columns={'state':'NAME'}, inplace=True)\n",
    "statesElections = states.merge(statesData, on='NAME')\n",
    "statesElections = statesElections[['NAME','geometry','DONALD J TRUMP','JOSEPH R BIDEN JR','JO JORGENSEN','OTHER','Total','Winner','WnrPerc']].copy(deep=True)\n",
    "statesElections.rename(columns={'NAME':'State','DONALD J TRUMP':'Trump','JOSEPH R BIDEN JR':'Biden','JO JORGENSEN':'Jorgensen','OTHER':'Other'}, inplace=True)\n",
    "\n",
    "# Merging the counties datasets\n",
    "countiesElections = counties.merge(countiesData, on='GEOID')\n",
    "countiesElections = countiesElections[['NAME','STATE_NAME','geometry','DONALD J TRUMP','JOSEPH R BIDEN JR','JO JORGENSEN','OTHER','Total','Winner','WnrPerc']].copy(deep=True)\n",
    "countiesElections.rename(columns={'NAME':'County','STATE_NAME':'State','DONALD J TRUMP':'Trump','JOSEPH R BIDEN JR':'Biden','JO JORGENSEN':'Jorgensen','OTHER':'Other'}, inplace=True)\n",
    "\n",
    "# Creating the county points dataset\n",
    "countiesPoints = countiesElections.copy(deep=True)\n",
    "countiesPoints['point'] = countiesPoints.representative_point()\n",
    "countiesPoints['geometry'] = countiesPoints['point']\n",
    "countiesPoints.drop(columns=['point'], inplace=True)\n"
   ]
  },
  {
   "cell_type": "code",
   "execution_count": null,
   "id": "95d99ae8",
   "metadata": {},
   "outputs": [],
   "source": [
    "\n",
    "# Exporting datasets as GeoJSONs\n",
    "countiesElections.to_file('countiesElections.geojson', driver='GeoJSON')\n",
    "statesElections.to_file('statesElections.geojson', driver='GeoJSON')\n",
    "countiesPoints.to_file('countiesPoints.geojson', driver='GeoJSON')"
   ]
  }
 ],
 "metadata": {
  "kernelspec": {
   "display_name": "Python 3 (ipykernel)",
   "language": "python",
   "name": "python3"
  },
  "language_info": {
   "codemirror_mode": {
    "name": "ipython",
    "version": 3
   },
   "file_extension": ".py",
   "mimetype": "text/x-python",
   "name": "python",
   "nbconvert_exporter": "python",
   "pygments_lexer": "ipython3",
   "version": "3.10.6"
  }
 },
 "nbformat": 4,
 "nbformat_minor": 5
}
